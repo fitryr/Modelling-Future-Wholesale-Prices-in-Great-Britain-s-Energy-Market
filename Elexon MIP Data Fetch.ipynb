{
 "cells": [
  {
   "cell_type": "code",
   "execution_count": 136,
   "id": "e83cf384-9d6d-49be-89d3-d0a034f319c6",
   "metadata": {},
   "outputs": [
    {
     "name": "stdout",
     "output_type": "stream",
     "text": [
      "Requirement already satisfied: requests in c:\\users\\rachm\\anaconda3\\lib\\site-packages (2.31.0)\n",
      "Requirement already satisfied: charset-normalizer<4,>=2 in c:\\users\\rachm\\anaconda3\\lib\\site-packages (from requests) (2.0.4)\n",
      "Requirement already satisfied: idna<4,>=2.5 in c:\\users\\rachm\\anaconda3\\lib\\site-packages (from requests) (3.4)\n",
      "Requirement already satisfied: urllib3<3,>=1.21.1 in c:\\users\\rachm\\anaconda3\\lib\\site-packages (from requests) (2.0.7)\n",
      "Requirement already satisfied: certifi>=2017.4.17 in c:\\users\\rachm\\anaconda3\\lib\\site-packages (from requests) (2024.6.2)\n",
      "Note: you may need to restart the kernel to use updated packages.\n"
     ]
    }
   ],
   "source": [
    "pip install requests"
   ]
  },
  {
   "cell_type": "code",
   "execution_count": 4,
   "id": "dcc97a10-89fc-4755-9231-ec4b576472b2",
   "metadata": {},
   "outputs": [],
   "source": [
    "import os\n",
    "import sys\n",
    "from dotenv import find_dotenv, load_dotenv\n",
    "\n",
    "load_dotenv(find_dotenv())\n",
    "src_path = os.environ.get('PROJECT_SRC')\n",
    "os.chdir(src_path)"
   ]
  },
  {
   "cell_type": "code",
   "execution_count": 5,
   "id": "a8da8ad3-8e6e-4733-87ae-ca2133498034",
   "metadata": {},
   "outputs": [
    {
     "name": "stdout",
     "output_type": "stream",
     "text": [
      "Current working directory changed to: C:\\Users\\rachm\\PyPSA-GB\\Dissertation\n"
     ]
    }
   ],
   "source": [
    "import os\n",
    "\n",
    "# Specify the directory path you want to set as the working directory\n",
    "directory_path =  '/Users/rachm/PyPSA-GB/Dissertation'\n",
    "\n",
    "# Change the current working directory to the specified directory path\n",
    "try:\n",
    "    os.chdir(directory_path)\n",
    "    print(f\"Current working directory changed to: {os.getcwd()}\")\n",
    "except FileNotFoundError:\n",
    "    print(f\"Error: The directory at {directory_path} was not found.\")"
   ]
  },
  {
   "cell_type": "code",
   "execution_count": 142,
   "id": "afda5b81-1714-48b9-9875-78540c95a1f4",
   "metadata": {},
   "outputs": [
    {
     "name": "stdout",
     "output_type": "stream",
     "text": [
      "Data saved to market_index_data_2016_1.csv\n"
     ]
    }
   ],
   "source": [
    "import requests\n",
    "from datetime import datetime, timedelta\n",
    "import csv\n",
    "import calendar\n",
    "\n",
    "# Elexon API endpoint and API key\n",
    "api_url = 'https://data.elexon.co.uk/bmrs/api/v1/balancing/pricing/market-index'\n",
    "api_key = ''  # Replace with your actual API key\n",
    "\n",
    "# Function to fetch data for a specific date range\n",
    "def fetch_data_for_month(year, month):\n",
    "    # Determine the number of days in the month\n",
    "    num_days = calendar.monthrange(year, month)[1]\n",
    "\n",
    "    # Initialize variables\n",
    "    data_all = []\n",
    "\n",
    "    # Headers\n",
    "    headers = {\n",
    "        'accept': 'text/csv',\n",
    "        'x-api-key': api_key}\n",
    "\n",
    "    # Iterate over each week of the month\n",
    "    current_date = datetime(year, month, 1)\n",
    "    while current_date.month == month:\n",
    "        end_date = current_date + timedelta(days=6)\n",
    "        if end_date.month != month:\n",
    "            end_date = datetime(year, month, num_days)\n",
    "\n",
    "        params = {\n",
    "            'from': current_date.strftime('%Y-%m-%dT00:00Z'),\n",
    "            'to': end_date.strftime('%Y-%m-%dT23:59Z'),\n",
    "            'dataProviders': 'N2EXMIDP',\n",
    "            'format': 'csv'}\n",
    "        try:\n",
    "            # Make GET request\n",
    "            response = requests.get(api_url, params=params, headers=headers)\n",
    "\n",
    "            # Check if request was successful\n",
    "            if response.status_code == 200:\n",
    "                # Append the fetched data to the list\n",
    "                data_all.append(response.text)\n",
    "            else:\n",
    "                print(f\"Error fetching data for {current_date.date()} to {end_date.date()}: {response.status_code} - {response.text}\")\n",
    "        except requests.exceptions.RequestException as e:\n",
    "            print(f\"Error fetching data for {current_date.date()} to {end_date.date()}: {e}\")\n",
    "        current_date = end_date + timedelta(days=1)\n",
    "    return data_all\n",
    "\n",
    "# Function to save data to CSV file\n",
    "def save_to_csv(data, filename):\n",
    "    with open(filename, 'w', newline='') as csvfile:\n",
    "        writer = csv.writer(csvfile)\n",
    "        header_written = False\n",
    "        for block in data:\n",
    "            lines = block.splitlines()\n",
    "            reader = csv.reader(lines)\n",
    "            header = next(reader)\n",
    "            if not header_written:\n",
    "                writer.writerow(header)\n",
    "                header_written = True\n",
    "            for row in reader:\n",
    "                writer.writerow(row)\n",
    "\n",
    "# Example: Fetch data for January 2017 and save to CSV file\n",
    "year = 2017\n",
    "month = 1\n",
    "data_for_month = fetch_data_for_month(year, month)\n",
    "\n",
    "# Specify the filename to save\n",
    "csv_filename = f'market_index_data_{year}_{month}.csv'\n",
    "\n",
    "# Save data to CSV file\n",
    "save_to_csv(data_for_month, csv_filename)\n",
    "\n",
    "print(f\"Data saved to {csv_filename}\")"
   ]
  }
 ],
 "metadata": {
  "kernelspec": {
   "display_name": "PyPSA-GB",
   "language": "python",
   "name": "pypsa-gb"
  },
  "language_info": {
   "codemirror_mode": {
    "name": "ipython",
    "version": 3
   },
   "file_extension": ".py",
   "mimetype": "text/x-python",
   "name": "python",
   "nbconvert_exporter": "python",
   "pygments_lexer": "ipython3",
   "version": "3.11.7"
  }
 },
 "nbformat": 4,
 "nbformat_minor": 5
}
